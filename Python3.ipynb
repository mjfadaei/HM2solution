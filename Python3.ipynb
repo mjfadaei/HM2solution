{
  "nbformat": 4,
  "nbformat_minor": 0,
  "metadata": {
    "colab": {
      "name": "Python3.ipynb",
      "provenance": [],
      "authorship_tag": "ABX9TyOE/HuFdNPZTt9Y72dsjB1z",
      "include_colab_link": true
    },
    "kernelspec": {
      "name": "python3",
      "display_name": "Python 3"
    },
    "language_info": {
      "name": "python"
    }
  },
  "cells": [
    {
      "cell_type": "markdown",
      "metadata": {
        "id": "view-in-github",
        "colab_type": "text"
      },
      "source": [
        "<a href=\"https://colab.research.google.com/github/mjfadaei/PythonCourseHW2/blob/main/Python3.ipynb\" target=\"_parent\"><img src=\"https://colab.research.google.com/assets/colab-badge.svg\" alt=\"Open In Colab\"/></a>"
      ]
    },
    {
      "cell_type": "markdown",
      "source": [
        "Python3 (Homework)"
      ],
      "metadata": {
        "id": "GdsDz-PvQmT-"
      }
    },
    {
      "cell_type": "markdown",
      "source": [
        "Create a random number with normal distribution"
      ],
      "metadata": {
        "id": "M8iZHJ3lQwJ8"
      }
    },
    {
      "cell_type": "code",
      "source": [
        "import numpy as np\n",
        "RandomNumber = np.random.normal()\n",
        "print(RandomNumber)"
      ],
      "metadata": {
        "id": "xHaNg5uUQ-VG"
      },
      "execution_count": null,
      "outputs": []
    },
    {
      "cell_type": "markdown",
      "source": [
        "Results"
      ],
      "metadata": {
        "id": "WlzDVqVkRXRa"
      }
    },
    {
      "cell_type": "code",
      "source": [
        "import numpy as np\n",
        "a = np.array([1.0,2.0,3.0])\n",
        "b = 2.0\n",
        "print('a * b = ',a*b)\n",
        "c = [2.0,3.0,6.0]\n",
        "print('a * c = ',a*c)\n",
        "print('\\n____________________________________________________')\n",
        "\n",
        "\n",
        "print(np.zeros((2,2),dtype = np.int16))\n",
        "print('\\n____________________________________________________')\n",
        "\n",
        "\n",
        "A = np.array([[6,1,1],\n",
        "              [4,-2,5],\n",
        "              [2,8,7]])\n",
        "print('Rank of A:',np.linalg.matrix_rank(A))\n",
        "print('\\nTrace of A:', np.trace(A))\n",
        "print('\\nDeterminant of A:', np.linalg.det(A))\n",
        "print('\\nInverse of A:\\n', np.linalg.inv(A))\n",
        "print('\\nMatrix A raised to power3:\\n', np.linalg.matrix_power(A,3))\n",
        "print('\\n____________________________________________________')\n",
        "\n",
        "\n",
        "a = np.array([[1,2],[3,4]])\n",
        "b = np.array([8,18])\n",
        "print(\"Solution of liner equations:\",np.linalg.solve(a,b))\n",
        "print('\\n____________________________________________________')\n",
        "\n",
        "\n",
        "normal_array= np.random.normal(5,0.5,10)\n",
        "print('normal : ',normal_array)\n",
        "print('\\n')\n",
        "print('Min : ',np.min(normal_array))\n",
        "print('\\n')\n",
        "print('Max : ',np.max(normal_array))\n",
        "print('\\n')\n",
        "print('Mean : ',np.mean(normal_array))\n",
        "print('\\n')\n",
        "print('Median : ',np.median(normal_array))\n",
        "print('\\n')\n",
        "print('Std : ',np.std(normal_array))\n",
        "print('\\n____________________________________________________')\n",
        "\n",
        "\n",
        "f = np.array([1,2])\n",
        "g = np.array([4,5])\n",
        "print(np.dot(f,g))\n"
      ],
      "metadata": {
        "id": "a0JPvjXGRZNu"
      },
      "execution_count": null,
      "outputs": []
    },
    {
      "cell_type": "markdown",
      "source": [
        "\n",
        "Dijkstra algorithm Floyd_warshall"
      ],
      "metadata": {
        "id": "Xg-TKoTURkXs"
      }
    },
    {
      "cell_type": "code",
      "source": [
        "import numpy as np\n",
        "from scipy.sparse.csgraph import dijkstra\n",
        "from scipy.sparse.csgraph import floyd_warshall\n",
        "from scipy.sparse import csr_matrix\n",
        "\n",
        "infinity = 999\n",
        "M = np.array([[0,5,1,4,10],\n",
        "     [infinity,0,infinity,infinity,6],\n",
        "     [infinity,infinity,0,2,infinity],\n",
        "     [infinity,infinity,infinity,0,5],\n",
        "     [infinity,infinity,infinity,infinity,0]])\n",
        "\n",
        "C = csr_matrix(M)\n",
        "print('result on dijkstra algorithm : \\n' ,dijkstra(C),'\\n')\n",
        "print('result on floyd warshall algorithm: \\n' ,floyd_warshall(C))"
      ],
      "metadata": {
        "id": "8kCQiAe7Rv63"
      },
      "execution_count": null,
      "outputs": []
    }
  ]
}