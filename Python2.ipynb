{
  "nbformat": 4,
  "nbformat_minor": 0,
  "metadata": {
    "colab": {
      "name": "Python2.ipynb",
      "provenance": [],
      "collapsed_sections": [],
      "authorship_tag": "ABX9TyOli3hpz+xjxYoniqeJWVHQ",
      "include_colab_link": true
    },
    "kernelspec": {
      "name": "python3",
      "display_name": "Python 3"
    },
    "language_info": {
      "name": "python"
    }
  },
  "cells": [
    {
      "cell_type": "markdown",
      "metadata": {
        "id": "view-in-github",
        "colab_type": "text"
      },
      "source": [
        "<a href=\"https://colab.research.google.com/github/mjfadaei/HM2solution/blob/main/Python2.ipynb\" target=\"_parent\"><img src=\"https://colab.research.google.com/assets/colab-badge.svg\" alt=\"Open In Colab\"/></a>"
      ]
    },
    {
      "cell_type": "markdown",
      "source": [
        "Python2 (Homework)"
      ],
      "metadata": {
        "id": "FFxV5Zx3-8Iw"
      }
    },
    {
      "cell_type": "markdown",
      "source": [
        "1 Fibonacci - recursive"
      ],
      "metadata": {
        "id": "oC4HuWiF_B83"
      }
    },
    {
      "cell_type": "code",
      "execution_count": null,
      "metadata": {
        "id": "yqTWqF5A-bmv"
      },
      "outputs": [],
      "source": [
        "def fibo(n):\n",
        "    if n == 0:\n",
        "        return 0\n",
        "    elif n == 1:\n",
        "        return 1\n",
        "    else:\n",
        "        return fibo(n-1) + fibo(n-2)\n",
        "    \n",
        "n = int(input('enter number n: '))\n",
        "print(fibo(n))"
      ]
    },
    {
      "cell_type": "markdown",
      "source": [
        "1 Fibonacci - direct"
      ],
      "metadata": {
        "id": "ks2L2_sK_aP4"
      }
    },
    {
      "cell_type": "code",
      "source": [
        "def fibo(n):\n",
        "    first = 1\n",
        "    second = 1\n",
        "    c = 1\n",
        "    while c < n:\n",
        "        T = first + second\n",
        "        first = second\n",
        "        second = T\n",
        "        c = c + 1\n",
        "    print(first)\n",
        "\n",
        "n = int(input('enter number n: '))\n",
        "fibo(n)"
      ],
      "metadata": {
        "id": "AYa-aKjc_lUT"
      },
      "execution_count": null,
      "outputs": []
    },
    {
      "cell_type": "markdown",
      "source": [
        "2 - Radian - degree"
      ],
      "metadata": {
        "id": "1gatrIZa_qtQ"
      }
    },
    {
      "cell_type": "code",
      "source": [
        "import math\n",
        "n=int(input(\"Pleas Enter a Number in degrees: \"))\n",
        "\n",
        "print(\"sin=%.2f\" %math.sin(math.radians(n)))\n",
        "\n",
        "print(\"cos=%.2f\" %math.cos(math.radians(n)))\n",
        "\n",
        "print(\"tan=%.2f\" %math.tan(math.radians(n)))\n",
        "\n",
        "\n",
        "\n",
        "m=float(input(\"Pleas Enter a Number in radians: \"))\n",
        "\n",
        "print(\"sin=%.2f\" %math.sin(m))\n",
        "\n",
        "print(\"cos=%.2f\" %math.cos(m))\n",
        "\n",
        "print(\"tan=%.2f\" %math.tan(m))"
      ],
      "metadata": {
        "id": "roRrZ9KmABMa"
      },
      "execution_count": null,
      "outputs": []
    },
    {
      "cell_type": "markdown",
      "source": [
        "Sum of prime number between 1 to 1000"
      ],
      "metadata": {
        "id": "yy5K_siZAL8U"
      }
    },
    {
      "cell_type": "code",
      "source": [
        "c = 0\n",
        "n = 2\n",
        "sum = 0\n",
        "while c <= 1000:\n",
        "    for i in range(2,n):\n",
        "\n",
        "        if(n%i==0):\n",
        "            n+=1\n",
        "            break\n",
        "\n",
        "    else:\n",
        "        sum = sum + n\n",
        "        #print(n)\n",
        "        n+=1\n",
        "        c+=1\n",
        "print(sum)        \n"
      ],
      "metadata": {
        "id": "nHODbhDRAcRp"
      },
      "execution_count": null,
      "outputs": []
    },
    {
      "cell_type": "markdown",
      "source": [
        "create dictionary from words of a text file"
      ],
      "metadata": {
        "id": "YzQMhzuCAtyo"
      }
    },
    {
      "cell_type": "code",
      "source": [
        "# txt = open(\"T4.txt\" , \"r\")\n",
        "#temp = txt.read()\n",
        "\n",
        "from google.colab import drive\n",
        "drive.mount('/content/drive')\n",
        "with open('/content/drive/My Drive/T4.txt', 'r') as f: \n",
        "    temp = f.read()\n",
        "\n",
        "print(temp)\n",
        "t = (temp).split()\n",
        "dictionary = dict()\n",
        "j = 1\n",
        "for i in t:\n",
        "    if i in dictionary:\n",
        "        j = dictionary[i]\n",
        "        j += 1\n",
        "        dictionary[i] = j\n",
        "    else:\n",
        "        dictionary[i] = j\n",
        "print(dictionary)\n",
        "print(\"-----------------------------------------------------------------------\")"
      ],
      "metadata": {
        "id": "Oa_dmCILBBa-"
      },
      "execution_count": null,
      "outputs": []
    },
    {
      "cell_type": "markdown",
      "source": [
        "Time elapsed to run Fibonacci"
      ],
      "metadata": {
        "id": "NHcVK4q7E_Vm"
      }
    },
    {
      "cell_type": "code",
      "source": [
        "import datetime\n",
        "n=int(input(\"Pleas Enter n: \"))\n",
        "def Fibonacci(n): \n",
        "    \n",
        "    if n==0: \n",
        "        return 0\n",
        "     \n",
        "    elif n==1: \n",
        "        return 1\n",
        "    else: \n",
        "        return Fibonacci(n-1)+Fibonacci(n-2)\n",
        "    \n",
        "a= datetime.datetime.now()\n",
        "print(a)\n",
        "print(Fibonacci(n))\n",
        "b = datetime.datetime.now()\n",
        "print(b)\n",
        "c=b-a\n",
        "print(\"Time for fibo:\" )\n",
        "print(int(c.total_seconds()*1000))"
      ],
      "metadata": {
        "id": "EVAH1fRhFHaV"
      },
      "execution_count": null,
      "outputs": []
    }
  ]
}